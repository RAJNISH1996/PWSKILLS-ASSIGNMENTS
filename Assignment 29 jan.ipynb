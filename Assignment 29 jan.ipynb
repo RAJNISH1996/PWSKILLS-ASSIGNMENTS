{
 "cells": [
  {
   "cell_type": "markdown",
   "id": "72294943-e057-48fe-b6a1-8e5b80d21891",
   "metadata": {},
   "source": [
    "1. Who developed Python programming language?\n",
    "\n",
    "Ans. Guido Van Rossum"
   ]
  },
  {
   "cell_type": "markdown",
   "id": "ef416238-a348-4435-85c0-ce91ce81d926",
   "metadata": {},
   "source": [
    "2. Which type of programming does Python support?\n",
    "\n",
    "Ans.Python supports  object-oriented, structured, and functional programming."
   ]
  },
  {
   "cell_type": "markdown",
   "id": "33b8841c-b231-4931-8dbc-7e70159a5954",
   "metadata": {},
   "source": [
    "3. Is Python case sensitive when dealing with identifiers?\n",
    "\n",
    "Ans. Yes"
   ]
  },
  {
   "cell_type": "markdown",
   "id": "10547d65-6a63-4b27-80c4-dc39c88bc369",
   "metadata": {},
   "source": [
    "4. What is the correct extension of the Python file?\n",
    "\n",
    "Ans. \".py\""
   ]
  },
  {
   "cell_type": "markdown",
   "id": "2904804a-beb9-4911-8a3b-f80f34b59707",
   "metadata": {},
   "source": [
    "5. Is Python code compiled or interpreted?\n",
    "\n",
    "Ans. Interpreted language.(ie. source code converted into bytecode then execution takes place)"
   ]
  },
  {
   "cell_type": "markdown",
   "id": "be73e388-3777-401f-afb4-99bb6936ed16",
   "metadata": {},
   "source": [
    "6. Name a few blocks of code used to define in Python language.\n",
    "\n",
    "Ans.A module, a function body, and a class definition."
   ]
  },
  {
   "cell_type": "markdown",
   "id": "40bdb7d9-ccac-4bed-8a34-fff8b9f3c06f",
   "metadata": {},
   "source": [
    "7. State character used to give single line comments in Python.\n",
    "\n",
    "Ans. The '#' symbol is used to write a single-line comment in python."
   ]
  },
  {
   "cell_type": "markdown",
   "id": "729d9a4b-7478-4f50-97ed-afed2366c797",
   "metadata": {},
   "source": [
    "8. Mention functions which can help us to find the version of Python that we are currently using.\n",
    "\n",
    "Ans. import sys \n",
    "     sys. version (function to know the current python version)\n",
    "some more function is >> python_version, python -V.     "
   ]
  },
  {
   "cell_type": "markdown",
   "id": "28b72db4-dd57-49dc-bb28-423609e6a0bc",
   "metadata": {},
   "source": [
    "9. Python supports the creation of anonymous functions at runtime using a construct called ___________\n",
    "\n",
    "Ans.  \"lambda\""
   ]
  },
  {
   "cell_type": "markdown",
   "id": "442d0103-dfb5-4225-a76b-db252a85d72b",
   "metadata": {},
   "source": [
    "10. What does Pip stand for Python.\n",
    "\n",
    "Ans. \"preferred installer program.\""
   ]
  },
  {
   "cell_type": "markdown",
   "id": "46457eb2-b86d-4bed-9ca5-9a895f393094",
   "metadata": {},
   "source": [
    "11. Mention a few built in function in Python.\n",
    "\n",
    "Ans. print(),input (), int(), len() ,list(), max() etc."
   ]
  },
  {
   "cell_type": "markdown",
   "id": "6beadb05-ca0e-4013-8844-7a47cd954136",
   "metadata": {},
   "source": [
    "12. What is the maximum possible length of an identifier in Python?\n",
    "\n",
    "Ans. 79 characters "
   ]
  },
  {
   "cell_type": "markdown",
   "id": "77317494-a52f-4c7a-be00-f7ad89b75135",
   "metadata": {},
   "source": [
    "13. What are the benefits of using Python?\n",
    "\n",
    "Ans. a) Easy to Read, Learn and Write \n",
    "     b) Interpreted Language \n",
    "     c) Dynamically Typed \n",
    "     d) Free and Open-Source"
   ]
  },
  {
   "cell_type": "markdown",
   "id": "4d8d55f7-c141-4f8b-935b-d1f24433ffb4",
   "metadata": {},
   "source": [
    "14. How is memory managed in Python?\n",
    "\n",
    "Ans. Memory management in Python involves a private heap containing all Python objects and data structures. The management of this private heap is ensured internally by the Python memory manager."
   ]
  },
  {
   "cell_type": "markdown",
   "id": "ebeeb901-da26-42db-b93b-a95e2e8d064b",
   "metadata": {},
   "source": [
    "15. How to install Python on Windows and set path variables?\n",
    "\n",
    "Ans. a) first visit to https://www.python.org/downloads/ \n",
    "then download the version we want.(recommended latest version)\n",
    "b) Then find and copy the exact location where python is intalled.\n",
    "c)Then go invironment variable in control pannel\n",
    "d) then system variable----> path---> Edit-->New---> paste the exact location of python which was copied earlier--->click ok"
   ]
  },
  {
   "cell_type": "markdown",
   "id": "24dfb172-9472-4750-9cf4-c4ff2e763ef0",
   "metadata": {},
   "source": [
    "16. Is indentation required in python?\n",
    "\n",
    "Ans. Yes, to define the bolck of statements identation is needed. "
   ]
  }
 ],
 "metadata": {
  "kernelspec": {
   "display_name": "Python 3 (ipykernel)",
   "language": "python",
   "name": "python3"
  },
  "language_info": {
   "codemirror_mode": {
    "name": "ipython",
    "version": 3
   },
   "file_extension": ".py",
   "mimetype": "text/x-python",
   "name": "python",
   "nbconvert_exporter": "python",
   "pygments_lexer": "ipython3",
   "version": "3.10.8"
  }
 },
 "nbformat": 4,
 "nbformat_minor": 5
}
