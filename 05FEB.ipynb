{
 "cells": [
  {
   "cell_type": "code",
   "execution_count": 1,
   "id": "811a6fda-becc-4341-b365-d2b88d84ba5e",
   "metadata": {},
   "outputs": [],
   "source": [
    "########## OOPS"
   ]
  },
  {
   "cell_type": "code",
   "execution_count": 3,
   "id": "91bf579a-bf6f-4121-98bf-823a085aed69",
   "metadata": {},
   "outputs": [],
   "source": [
    "class test:\n",
    "    pass\n"
   ]
  },
  {
   "cell_type": "code",
   "execution_count": 4,
   "id": "cdc20296-994b-4ad6-910c-296b131ce5be",
   "metadata": {},
   "outputs": [],
   "source": [
    "a=test()"
   ]
  },
  {
   "cell_type": "code",
   "execution_count": 5,
   "id": "53f608bc-5b95-4c77-9bfb-7457bc8dc981",
   "metadata": {},
   "outputs": [
    {
     "data": {
      "text/plain": [
       "__main__.test"
      ]
     },
     "execution_count": 5,
     "metadata": {},
     "output_type": "execute_result"
    }
   ],
   "source": [
    "type(a)"
   ]
  },
  {
   "cell_type": "code",
   "execution_count": 6,
   "id": "9443481b-8b4d-4d8e-8dbe-fd98375a566c",
   "metadata": {},
   "outputs": [
    {
     "name": "stdout",
     "output_type": "stream",
     "text": [
      "<class '__main__.test'>\n"
     ]
    }
   ],
   "source": [
    "print(type(a))"
   ]
  },
  {
   "cell_type": "code",
   "execution_count": 11,
   "id": "d53af8c9-8d28-4784-85b0-85ec56b1376a",
   "metadata": {},
   "outputs": [],
   "source": [
    "class pwskills:\n",
    "    def welcome_mssg(self):\n",
    "        print('welcome to pwskills')"
   ]
  },
  {
   "cell_type": "code",
   "execution_count": 14,
   "id": "c880f7ef-9314-4358-b8b5-71f6a593d358",
   "metadata": {},
   "outputs": [],
   "source": [
    "rohan=pwskills ()"
   ]
  },
  {
   "cell_type": "code",
   "execution_count": 15,
   "id": "b538ef06-85e2-4ce9-a20d-deef13ec82af",
   "metadata": {},
   "outputs": [
    {
     "name": "stdout",
     "output_type": "stream",
     "text": [
      "welcome to pwskills\n"
     ]
    }
   ],
   "source": [
    "rohan.welcome_mssg()"
   ]
  },
  {
   "cell_type": "code",
   "execution_count": 16,
   "id": "27ac7ad0-77fb-4abe-81b8-cdae021b33eb",
   "metadata": {},
   "outputs": [
    {
     "name": "stdout",
     "output_type": "stream",
     "text": [
      "welcome to pwskills\n"
     ]
    }
   ],
   "source": [
    "gaurav=pwskills()\n",
    "gaurav.welcome_mssg()"
   ]
  },
  {
   "cell_type": "code",
   "execution_count": 1,
   "id": "605d0c33-2be8-4893-ba7d-2bb6abb2fae4",
   "metadata": {},
   "outputs": [],
   "source": [
    "class pwskills1:\n",
    "    \n",
    "    def __init__(self, name, phone_no , email):\n",
    "        self.name=name\n",
    "        self.phone_no = phone_no\n",
    "        self.email=email\n",
    "        \n",
    "    def return_details(self):\n",
    "        return self.name,self.phone_no,self.email"
   ]
  },
  {
   "cell_type": "code",
   "execution_count": 2,
   "id": "0611ad12-bb6c-436b-801c-1671eb7c54f2",
   "metadata": {},
   "outputs": [],
   "source": [
    "gaurav=pwskills1('gaurav', 1234, 'gaurav email')\n",
    "               \n"
   ]
  },
  {
   "cell_type": "code",
   "execution_count": 3,
   "id": "5142dc3a-6764-43af-b4f6-094636fea358",
   "metadata": {},
   "outputs": [
    {
     "data": {
      "text/plain": [
       "('gaurav', 1234, 'gaurav email')"
      ]
     },
     "execution_count": 3,
     "metadata": {},
     "output_type": "execute_result"
    }
   ],
   "source": [
    "gaurav.return_details()  "
   ]
  },
  {
   "cell_type": "code",
   "execution_count": null,
   "id": "d4e23341-dac8-42c3-aff6-0e06ce382133",
   "metadata": {},
   "outputs": [],
   "source": []
  }
 ],
 "metadata": {
  "kernelspec": {
   "display_name": "Python 3 (ipykernel)",
   "language": "python",
   "name": "python3"
  },
  "language_info": {
   "codemirror_mode": {
    "name": "ipython",
    "version": 3
   },
   "file_extension": ".py",
   "mimetype": "text/x-python",
   "name": "python",
   "nbconvert_exporter": "python",
   "pygments_lexer": "ipython3",
   "version": "3.10.8"
  }
 },
 "nbformat": 4,
 "nbformat_minor": 5
}
